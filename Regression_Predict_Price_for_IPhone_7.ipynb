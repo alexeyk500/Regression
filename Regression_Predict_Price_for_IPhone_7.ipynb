{
  "nbformat": 4,
  "nbformat_minor": 0,
  "metadata": {
    "colab": {
      "name": "ДЗ Ultra PRo Занятие 6. Регрессия - Предсказание цены на IPhone7.ipynb",
      "provenance": [],
      "collapsed_sections": []
    },
    "kernelspec": {
      "name": "python3",
      "display_name": "Python 3"
    }
  },
  "cells": [
    {
      "cell_type": "markdown",
      "metadata": {
        "id": "2Y2rkmjEvwxC",
        "colab_type": "text"
      },
      "source": [
        "### Предсказание цены на Iphone7 по содержимому описания обьявления о продаже на сайте avito.ru"
      ]
    },
    {
      "cell_type": "markdown",
      "metadata": {
        "id": "-YqbkNaPJLdR",
        "colab_type": "text"
      },
      "source": [
        "# Ultra PRO задание\n",
        "## Найдите любую базу, подходящую для регрессии:\n",
        "###Спарсите данные\n",
        " - Разделите данные на обучающую и проверочную выборки\n",
        " - Напишите сеть для регрессии\n",
        " - Сделайте визуализацию результата\n",
        " - Напишите ваши результаты и выводы\n"
      ]
    },
    {
      "cell_type": "code",
      "metadata": {
        "id": "KvFD5sDm7MY2",
        "colab_type": "code",
        "colab": {}
      },
      "source": [
        "# Подключение библиотек\n",
        "%matplotlib inline\n",
        "\n",
        "import pandas as pd\n",
        "import matplotlib.pyplot as plt\n",
        "from tensorflow.keras import utils\n",
        "import numpy as np\n",
        "import re\n",
        "import time\n",
        "import random\n",
        "\n",
        "from keras.optimizers import Adam,Adadelta,SGD,Adagrad,RMSprop\n",
        "from keras.models import Sequential, Model\n",
        "from keras.layers import concatenate, Input, Dense, Dropout, BatchNormalization, Flatten\n",
        "\n",
        "from keras.preprocessing.text import Tokenizer, text_to_word_sequence\n",
        "from sklearn.model_selection import train_test_split\n",
        "from sklearn.preprocessing import LabelEncoder\n",
        "\n",
        "from keras.callbacks import LambdaCallback\n",
        "import keras\n",
        "import keras.backend as K\n",
        "\n",
        "from IPython.display import clear_output\n",
        "\n",
        "from google.colab import files"
      ],
      "execution_count": 0,
      "outputs": []
    },
    {
      "cell_type": "markdown",
      "metadata": {
        "id": "dIDG2UhZysfA",
        "colab_type": "text"
      },
      "source": [
        "# Чтение данных"
      ]
    },
    {
      "cell_type": "code",
      "metadata": {
        "id": "wk2KoCLgwSRF",
        "colab_type": "code",
        "outputId": "e2b91d19-d3ee-414b-b1d5-4109031eff12",
        "colab": {
          "base_uri": "https://localhost:8080/",
          "height": 122
        }
      },
      "source": [
        "# Монтируем Google Drive\n",
        "from google.colab import drive\n",
        "drive.mount('/content/drive')"
      ],
      "execution_count": 2,
      "outputs": [
        {
          "output_type": "stream",
          "text": [
            "Go to this URL in a browser: https://accounts.google.com/o/oauth2/auth?client_id=947318989803-6bn6qk8qdgf4n4g3pfee6491hc0brc4i.apps.googleusercontent.com&redirect_uri=urn%3aietf%3awg%3aoauth%3a2.0%3aoob&response_type=code&scope=email%20https%3a%2f%2fwww.googleapis.com%2fauth%2fdocs.test%20https%3a%2f%2fwww.googleapis.com%2fauth%2fdrive%20https%3a%2f%2fwww.googleapis.com%2fauth%2fdrive.photos.readonly%20https%3a%2f%2fwww.googleapis.com%2fauth%2fpeopleapi.readonly\n",
            "\n",
            "Enter your authorization code:\n",
            "··········\n",
            "Mounted at /content/drive\n"
          ],
          "name": "stdout"
        }
      ]
    },
    {
      "cell_type": "code",
      "metadata": {
        "id": "WWdp11AfwZQJ",
        "colab_type": "code",
        "outputId": "f7bcdcbf-f032-4ded-dcfe-9897bdff93bc",
        "colab": {
          "base_uri": "https://localhost:8080/",
          "height": 204
        }
      },
      "source": [
        "# Читаем данные\n",
        "df = pd.read_csv('/content/drive/My Drive/Базы/avito.csv') #загружаем данные в data frame\n",
        "df.head(5)    #взглянем на содержимое"
      ],
      "execution_count": 16,
      "outputs": [
        {
          "output_type": "execute_result",
          "data": {
            "text/html": [
              "<div>\n",
              "<style scoped>\n",
              "    .dataframe tbody tr th:only-of-type {\n",
              "        vertical-align: middle;\n",
              "    }\n",
              "\n",
              "    .dataframe tbody tr th {\n",
              "        vertical-align: top;\n",
              "    }\n",
              "\n",
              "    .dataframe thead th {\n",
              "        text-align: right;\n",
              "    }\n",
              "</style>\n",
              "<table border=\"1\" class=\"dataframe\">\n",
              "  <thead>\n",
              "    <tr style=\"text-align: right;\">\n",
              "      <th></th>\n",
              "      <th>town</th>\n",
              "      <th>text</th>\n",
              "      <th>price</th>\n",
              "    </tr>\n",
              "  </thead>\n",
              "  <tbody>\n",
              "    <tr>\n",
              "      <th>0</th>\n",
              "      <td>Москва, Шарикоподшипниковская ул., 13с3</td>\n",
              "      <td>Айфон7 iPhone7plus оригинал!не после ремонта! ...</td>\n",
              "      <td>8800</td>\n",
              "    </tr>\n",
              "    <tr>\n",
              "      <th>1</th>\n",
              "      <td>Москва, Алтуфьевское ш.</td>\n",
              "      <td>Только обмен на iPhone X телефон с коробкой Те...</td>\n",
              "      <td>10000</td>\n",
              "    </tr>\n",
              "    <tr>\n",
              "      <th>2</th>\n",
              "      <td>Москва</td>\n",
              "      <td>Доброго времени суток 😁Цена без торга 😑iPhone ...</td>\n",
              "      <td>12500</td>\n",
              "    </tr>\n",
              "    <tr>\n",
              "      <th>3</th>\n",
              "      <td>Москва, ул. Земляной Вал</td>\n",
              "      <td>Продаётся IPhone 7 Rose Gold 128GB, в илеально...</td>\n",
              "      <td>12000</td>\n",
              "    </tr>\n",
              "    <tr>\n",
              "      <th>4</th>\n",
              "      <td>Москва, ул. Новый Арбат, 2</td>\n",
              "      <td>Полностью рабочий, оригинал,  не реф, ничего н...</td>\n",
              "      <td>19500</td>\n",
              "    </tr>\n",
              "  </tbody>\n",
              "</table>\n",
              "</div>"
            ],
            "text/plain": [
              "                                      town  ...  price\n",
              "0  Москва, Шарикоподшипниковская ул., 13с3  ...   8800\n",
              "1                  Москва, Алтуфьевское ш.  ...  10000\n",
              "2                                   Москва  ...  12500\n",
              "3                 Москва, ул. Земляной Вал  ...  12000\n",
              "4               Москва, ул. Новый Арбат, 2  ...  19500\n",
              "\n",
              "[5 rows x 3 columns]"
            ]
          },
          "metadata": {
            "tags": []
          },
          "execution_count": 16
        }
      ]
    },
    {
      "cell_type": "code",
      "metadata": {
        "id": "E2P_pioixPZm",
        "colab_type": "code",
        "outputId": "30372b26-6e51-4cc6-92e0-dbfc8b2f1b50",
        "colab": {
          "base_uri": "https://localhost:8080/",
          "height": 34
        }
      },
      "source": [
        "# Взглянем на размер выборки с обьявлениями\n",
        "print(df.shape)"
      ],
      "execution_count": 17,
      "outputs": [
        {
          "output_type": "stream",
          "text": [
            "(6382, 3)\n"
          ],
          "name": "stdout"
        }
      ]
    },
    {
      "cell_type": "markdown",
      "metadata": {
        "id": "ZR-iisvayzuQ",
        "colab_type": "text"
      },
      "source": [
        "# Парсинг Базы"
      ]
    },
    {
      "cell_type": "code",
      "metadata": {
        "id": "5y_Ou3rS90eZ",
        "colab_type": "code",
        "outputId": "8dd80a99-8f6f-4959-ec75-dde80aba1ef0",
        "colab": {
          "base_uri": "https://localhost:8080/",
          "height": 34
        }
      },
      "source": [
        "# Удаляем строки с заголовками из строк базы\n",
        "df_clean = df[df.town != 'town']\n",
        "df_clean.columns = ['town', 'text', 'price']\n",
        "df_clean = df_clean.reset_index(drop=True)\n",
        "print(df_clean.shape)"
      ],
      "execution_count": 18,
      "outputs": [
        {
          "output_type": "stream",
          "text": [
            "(6210, 3)\n"
          ],
          "name": "stdout"
        }
      ]
    },
    {
      "cell_type": "code",
      "metadata": {
        "id": "rZBsUnPHdnwQ",
        "colab_type": "code",
        "colab": {}
      },
      "source": [
        "# Оставляем от названия города только первое слово\n",
        "def get_clean_town(full_town):\n",
        "  clean_town = full_town.split(',')[0]\n",
        "  return clean_town\n",
        "\n",
        "df_clean['town'] = df_clean['town'].apply(get_clean_town)"
      ],
      "execution_count": 0,
      "outputs": []
    },
    {
      "cell_type": "code",
      "metadata": {
        "id": "Xo6XrDS3iALK",
        "colab_type": "code",
        "colab": {}
      },
      "source": [
        "# Чистим текст обьявления от пробелов и переносов строк\n",
        "def get_clean_text(derty_text):\n",
        "  clean_text = derty_text.replace(\"\\xa0\",\"\")\n",
        "  clean_text = clean_text.replace(\"\\n\",\" \")\n",
        "  clean_text = clean_text.replace(\",\",\" \")\n",
        "  clean_text = clean_text.replace(\"😁\",\" \")\n",
        "  clean_text = clean_text.replace(\"😑\",\" \")\n",
        "  clean_text = clean_text.replace(\"🔥\",\" \")\n",
        "  clean_text = clean_text.replace(\"🍏\",\" \")\n",
        "  clean_text = clean_text.replace(\"!\",\" \")\n",
        "  clean_text = clean_text.replace(\".\",\" \")\n",
        "  clean_text = clean_text.replace(\"✔️\",\" \")\n",
        "  clean_text = clean_text.replace(\"■\",\" \")\n",
        "  clean_text = clean_text.replace(\"●\",\" \")\n",
        "\n",
        "  return clean_text\n",
        "\n",
        "df_clean['text'] = df_clean['text'].apply(get_clean_text)"
      ],
      "execution_count": 0,
      "outputs": []
    },
    {
      "cell_type": "code",
      "metadata": {
        "id": "1Dy8yp6uehk3",
        "colab_type": "code",
        "outputId": "264f3ec4-1e8d-4896-8eb1-51552c7d7067",
        "colab": {
          "base_uri": "https://localhost:8080/",
          "height": 204
        }
      },
      "source": [
        "df_clean.head(5)"
      ],
      "execution_count": 21,
      "outputs": [
        {
          "output_type": "execute_result",
          "data": {
            "text/html": [
              "<div>\n",
              "<style scoped>\n",
              "    .dataframe tbody tr th:only-of-type {\n",
              "        vertical-align: middle;\n",
              "    }\n",
              "\n",
              "    .dataframe tbody tr th {\n",
              "        vertical-align: top;\n",
              "    }\n",
              "\n",
              "    .dataframe thead th {\n",
              "        text-align: right;\n",
              "    }\n",
              "</style>\n",
              "<table border=\"1\" class=\"dataframe\">\n",
              "  <thead>\n",
              "    <tr style=\"text-align: right;\">\n",
              "      <th></th>\n",
              "      <th>town</th>\n",
              "      <th>text</th>\n",
              "      <th>price</th>\n",
              "    </tr>\n",
              "  </thead>\n",
              "  <tbody>\n",
              "    <tr>\n",
              "      <th>0</th>\n",
              "      <td>Москва</td>\n",
              "      <td>Айфон7 iPhone7plus оригинал не после ремонта  ...</td>\n",
              "      <td>8800</td>\n",
              "    </tr>\n",
              "    <tr>\n",
              "      <th>1</th>\n",
              "      <td>Москва</td>\n",
              "      <td>Только обмен на iPhone X телефон с коробкой Те...</td>\n",
              "      <td>10000</td>\n",
              "    </tr>\n",
              "    <tr>\n",
              "      <th>2</th>\n",
              "      <td>Москва</td>\n",
              "      <td>Доброго времени суток  Цена без торга  iPhone ...</td>\n",
              "      <td>12500</td>\n",
              "    </tr>\n",
              "    <tr>\n",
              "      <th>3</th>\n",
              "      <td>Москва</td>\n",
              "      <td>Продаётся IPhone 7 Rose Gold 128GB  в илеально...</td>\n",
              "      <td>12000</td>\n",
              "    </tr>\n",
              "    <tr>\n",
              "      <th>4</th>\n",
              "      <td>Москва</td>\n",
              "      <td>Полностью рабочий  оригинал   не реф  ничего н...</td>\n",
              "      <td>19500</td>\n",
              "    </tr>\n",
              "  </tbody>\n",
              "</table>\n",
              "</div>"
            ],
            "text/plain": [
              "     town                                               text  price\n",
              "0  Москва  Айфон7 iPhone7plus оригинал не после ремонта  ...   8800\n",
              "1  Москва  Только обмен на iPhone X телефон с коробкой Те...  10000\n",
              "2  Москва  Доброго времени суток  Цена без торга  iPhone ...  12500\n",
              "3  Москва  Продаётся IPhone 7 Rose Gold 128GB  в илеально...  12000\n",
              "4  Москва  Полностью рабочий  оригинал   не реф  ничего н...  19500"
            ]
          },
          "metadata": {
            "tags": []
          },
          "execution_count": 21
        }
      ]
    },
    {
      "cell_type": "code",
      "metadata": {
        "id": "nJJhDvwXgFsf",
        "colab_type": "code",
        "outputId": "c8acebfe-e281-4584-eefe-0f752cd67387",
        "colab": {
          "base_uri": "https://localhost:8080/",
          "height": 238
        }
      },
      "source": [
        "# Посмотрим на количество уникальных городов\n",
        "df_clean.groupby(['town'])['town'].count()"
      ],
      "execution_count": 22,
      "outputs": [
        {
          "output_type": "execute_result",
          "data": {
            "text/plain": [
              "town\n",
              "Арбатско-Покровская линия                            2\n",
              "Дербент                                              2\n",
              "Курское направление Московской железной дороги       1\n",
              "Ленинградская область                                3\n",
              "Маршала Жукова пр-кт                                 1\n",
              "Москва                                            4131\n",
              "Московская область                                  12\n",
              "Рижское направление Московской железной дороги       3\n",
              "Санкт-Петербург                                   2052\n",
              "метро                                                2\n",
              "ул Вишнёвая                                          1\n",
              "Name: town, dtype: int64"
            ]
          },
          "metadata": {
            "tags": []
          },
          "execution_count": 22
        }
      ]
    },
    {
      "cell_type": "code",
      "metadata": {
        "id": "y4TeX3wsgP1z",
        "colab_type": "code",
        "outputId": "cb5f3020-9720-4ea5-f83b-1289774d6663",
        "colab": {
          "base_uri": "https://localhost:8080/",
          "height": 102
        }
      },
      "source": [
        "# Оставим только наиболее значимые города по количеству обьявлений\n",
        "df_clean = df_clean[(df_clean.town == 'Москва') | (df_clean.town == 'Санкт-Петербург')]\n",
        "print(df_clean.shape)\n",
        "# Посмотрим на количество уникальных городов\n",
        "df_clean.groupby(['town'])['town'].count()"
      ],
      "execution_count": 23,
      "outputs": [
        {
          "output_type": "stream",
          "text": [
            "(6183, 3)\n"
          ],
          "name": "stdout"
        },
        {
          "output_type": "execute_result",
          "data": {
            "text/plain": [
              "town\n",
              "Москва             4131\n",
              "Санкт-Петербург    2052\n",
              "Name: town, dtype: int64"
            ]
          },
          "metadata": {
            "tags": []
          },
          "execution_count": 23
        }
      ]
    },
    {
      "cell_type": "code",
      "metadata": {
        "id": "x7R4EUbWg5Ok",
        "colab_type": "code",
        "outputId": "b4ef3d07-d757-4080-a3e5-5f68818fd87f",
        "colab": {
          "base_uri": "https://localhost:8080/",
          "height": 68
        }
      },
      "source": [
        "#################\n",
        "#Задаем параметры для обработки данных\n",
        "#################\n",
        "texts_clean = df_clean['text'].values              #извлекаем данные всех текстов из столбца text\n",
        "classes_clean = list(df_clean['town'].values)  #извлекаем соответствующие им значения классов(лейблов) столбца text\n",
        "maxWordsCount = 15000                  #зададим макс.кол-во слов/индексов, учитываемое при обучении текстов\n",
        "\n",
        "print(df_clean['town'].unique())         #выводим все уникальные значения классов\n",
        "nClasses = df_clean['town'].nunique()  #задаём количество классов, обращаясь к столбцу category и оставляя уникальные значения\n",
        "print(nClasses) #взглянем на количество классов\n",
        "print(texts_clean.shape)"
      ],
      "execution_count": 24,
      "outputs": [
        {
          "output_type": "stream",
          "text": [
            "['Москва' 'Санкт-Петербург']\n",
            "2\n",
            "(6183,)\n"
          ],
          "name": "stdout"
        }
      ]
    },
    {
      "cell_type": "code",
      "metadata": {
        "id": "UF5hDiLziucX",
        "colab_type": "code",
        "outputId": "30b300ee-57ec-4242-b2f8-96c4458860ba",
        "colab": {
          "base_uri": "https://localhost:8080/",
          "height": 34
        }
      },
      "source": [
        "#################\n",
        "#Преобразовываем текстовые данные в числовые/векторные для обучения нейросетью\n",
        "#################\n",
        "\n",
        "#для этого воспользуемся встроенной в Keras функцией Tokenizer для разбиения текста и превращения в матрицу числовых значений\n",
        "tokenizer = Tokenizer(num_words=maxWordsCount, filters='!\"#$%&()*+,-./:;<=>?@[\\\\]^_`{|}~\\t\\n', lower=True, split=' ', oov_token='unknown', char_level=False)\n",
        "#выше задаем параметры:\n",
        "#(num_words=maxWordsCount) - определяем макс.кол-во слов/индексов, учитываемое при обучении текстов\n",
        "#(filters='!\"#$%&()*+,-./:;<=>?@[\\\\]^_`{|}~\\t\\n') - избавляемся от ненужных символов\n",
        "#(lower=True) - приводим слова к нижнему регистру\n",
        "#(split=' ') - разделяем слова по пробелу\n",
        "#(char_level=False) - просим токенайзер не удалять однобуквенные слова\n",
        "\n",
        "tokenizer.fit_on_texts(texts_clean)           #\"скармливаем\" наши тексты, т.е даём в обработку методу, который соберет словарь частотности\n",
        "print(\"Размер словаря\", len(tokenizer.word_index.items()))"
      ],
      "execution_count": 25,
      "outputs": [
        {
          "output_type": "stream",
          "text": [
            "Размер словаря 14553\n"
          ],
          "name": "stdout"
        }
      ]
    },
    {
      "cell_type": "code",
      "metadata": {
        "id": "j9UoumPpkAUX",
        "colab_type": "code",
        "outputId": "2f0f7c3a-6260-4b2c-f373-7da3a1088bb1",
        "colab": {
          "base_uri": "https://localhost:8080/",
          "height": 102
        }
      },
      "source": [
        "#преобразовываем текст в последовательность индексов согласно частотному словарю\n",
        "texts_in_WordIndexes = tokenizer.texts_to_sequences(texts_clean) #обучающие тесты в индексы\n",
        "\n",
        "print(\"Взглянем на фрагмент обучающего текста:\")\n",
        "print(\"В виде оригинального текста:              \", texts_clean[5] [:89])\n",
        "print(\"Он же в виде последовательности индексов: \", texts_in_WordIndexes[5][:20])\n",
        "print()\n",
        "\n",
        "print(len(texts_in_WordIndexes))"
      ],
      "execution_count": 26,
      "outputs": [
        {
          "output_type": "stream",
          "text": [
            "Взглянем на фрагмент обучающего текста:\n",
            "В виде оригинального текста:               Телефон на 32 gb  Состояние хорошее  Без комплекта  По остальному пишите отвечу на любые \n",
            "Он же в виде последовательности индексов:  [12, 6, 37, 26, 22, 223, 14, 562, 9, 3445, 102, 529, 6, 40, 204]\n",
            "\n",
            "6183\n"
          ],
          "name": "stdout"
        }
      ]
    },
    {
      "cell_type": "code",
      "metadata": {
        "id": "GngwKrO8jJBe",
        "colab_type": "code",
        "outputId": "726bf41f-b267-4af6-e169-1374c6e7e678",
        "colab": {
          "base_uri": "https://localhost:8080/",
          "height": 34
        }
      },
      "source": [
        "#################\n",
        "#преобразовываем города в вектора\n",
        "#################\n",
        "encoder = LabelEncoder() #вызываем метод кодирования тестовых лейблов из библиотеки sklearn\n",
        "encoder.fit(classes_clean)     #подгружаем в него категории из нашей базы\n",
        "classesEncoded = encoder.transform(classes_clean)           #кодируем категории\n",
        "xTowns = utils.to_categorical(classesEncoded, nClasses) #и выводим каждый лейбл в виде вектора длиной 22, с 1кой в позиции соответсвующего класса и нулями\n",
        "print(xTowns.shape)  #взглянем на форму лейблов категорий\n",
        "#print(xTowns[0])     #и отдельно на первую строку"
      ],
      "execution_count": 27,
      "outputs": [
        {
          "output_type": "stream",
          "text": [
            "(6183, 2)\n"
          ],
          "name": "stdout"
        }
      ]
    },
    {
      "cell_type": "code",
      "metadata": {
        "id": "ni7IKRsnmRrA",
        "colab_type": "code",
        "outputId": "ce57de78-c07e-47e3-977b-db623fd9e37c",
        "colab": {
          "base_uri": "https://localhost:8080/",
          "height": 51
        }
      },
      "source": [
        "# для текстов в собщениях формируем матрицу индексов по принципу Bag of Words\n",
        "xTexts = tokenizer.texts_to_matrix(texts_clean) #каждое слово из текста нашло свой индекс в векторе длиной maxWordsCount отметилось в нем единичкой \n",
        "print(xTexts.shape)  #взглянем на форму текстов\n",
        "print(xTexts[0, :20])#и отдельно на фрагмент начала вектора"
      ],
      "execution_count": 28,
      "outputs": [
        {
          "output_type": "stream",
          "text": [
            "(6183, 15000)\n",
            "[0. 0. 1. 1. 1. 1. 0. 1. 0. 1. 0. 0. 1. 1. 1. 0. 0. 0. 0. 0.]\n"
          ],
          "name": "stdout"
        }
      ]
    },
    {
      "cell_type": "code",
      "metadata": {
        "id": "Q96X9m2PnZNt",
        "colab_type": "code",
        "outputId": "ad235386-466f-41b5-f8de-2903869be8d5",
        "colab": {
          "base_uri": "https://localhost:8080/",
          "height": 51
        }
      },
      "source": [
        "# Получаем значения Y для регрессии\n",
        "yPrices = df_clean['price'].values \n",
        "print(yPrices.shape)\n",
        "print('Средняя цена -', round(yPrices.astype(int).mean(),2))"
      ],
      "execution_count": 78,
      "outputs": [
        {
          "output_type": "stream",
          "text": [
            "(6183,)\n",
            "Средняя цена - 14981.2\n"
          ],
          "name": "stdout"
        }
      ]
    },
    {
      "cell_type": "code",
      "metadata": {
        "id": "YOpXWN82peSq",
        "colab_type": "code",
        "outputId": "60eeedfa-b634-464f-ac2d-ef3442b28296",
        "colab": {
          "base_uri": "https://localhost:8080/",
          "height": 68
        }
      },
      "source": [
        "# Создаем маски для тренировочной и валидационной выборок\n",
        "test_size=0.2\n",
        "val_mask = []\n",
        "\n",
        "full_mask = set([x for x in range(0,xTexts.shape[0])])\n",
        "\n",
        "while len(val_mask) < xTexts.shape[0]*test_size:\n",
        "  cur_rnd = random.randint(0, xTexts.shape[0])\n",
        "  if not (cur_rnd in val_mask):\n",
        "    val_mask.append(cur_rnd)\n",
        "\n",
        "\n",
        "train_mask = list(full_mask - set(val_mask))\n",
        "print('Тренировочная  выборка - ',len(train_mask))\n",
        "print('Валидационнная выборка - ',len(val_mask))\n",
        "print(len(train_mask)+len(val_mask))"
      ],
      "execution_count": 32,
      "outputs": [
        {
          "output_type": "stream",
          "text": [
            "Тренировочная  выборка -  4946\n",
            "Валидационнная выборка -  1237\n",
            "6183\n"
          ],
          "name": "stdout"
        }
      ]
    },
    {
      "cell_type": "markdown",
      "metadata": {
        "id": "QpyvabGcuEmM",
        "colab_type": "text"
      },
      "source": [
        "## Составная нейронка на двух типах данных одновременно"
      ]
    },
    {
      "cell_type": "code",
      "metadata": {
        "id": "aE0fbu_Bt86G",
        "colab_type": "code",
        "colab": {}
      },
      "source": [
        "input1 = Input((xTowns.shape[1],))\n",
        "input2 = Input((xTexts.shape[1],))\n",
        "\n",
        "x1 = Dense(1, activation=\"relu\")(input1)  # Создаем ветку х1\n",
        "\n",
        "x2 = Dense(100, activation =\"selu\")(input2) # Создаем ветку х2\n",
        "x2 = Dense(200, activation =\"selu\")(x2)\n",
        "x2 = Dense(300, activation =\"selu\")(x2)\n",
        "\n",
        "x = concatenate([x1, x2]) # Объединяем обе ветки\n",
        "\n",
        "x = Dense(200, activation='linear')(x)\n",
        "x = Dropout(0.25)(x)\n",
        "out = Dense(1, activation='linear')(x) # Финальный нейрон, делает регрессию\n",
        "\n",
        "modelS = Model((input1, input2), out) # В Model загружаем стартовые и последнюю точки "
      ],
      "execution_count": 0,
      "outputs": []
    },
    {
      "cell_type": "code",
      "metadata": {
        "id": "Uef-7M_S_2Nz",
        "colab_type": "code",
        "colab": {
          "base_uri": "https://localhost:8080/",
          "height": 1000
        },
        "outputId": "80cdb394-7c71-4d46-fce5-7aab9d024432"
      },
      "source": [
        "# Обучение сети\n",
        "epochs=60\n",
        "\n",
        "modelS.compile(optimizer=Adam(lr=1e-4), loss='mse', metrics=['mae'])\n",
        "my_callback = MyCallback()\n",
        "history = modelS.fit([xTowns[train_mask], xTexts[train_mask]], \n",
        "                    yPrices[train_mask], \n",
        "                    epochs=epochs,\n",
        "                    batch_size=64, \n",
        "                    validation_data=([xTowns[val_mask], xTexts[val_mask]], \n",
        "                    yPrices[val_mask]), \n",
        "                    verbose=1)\n",
        "\n",
        "plt.plot(history.history['mean_absolute_error'], \n",
        "         label='МАЕ на обучающем наборе')\n",
        "plt.plot(history.history['val_mean_absolute_error'], \n",
        "         label='МАЕ на проверочном наборе')\n",
        "plt.xlabel('Эпоха обучения')\n",
        "plt.ylabel('МАЕ')\n",
        "plt.legend()\n",
        "plt.show()\n",
        "\n",
        "mae = history.history['mean_absolute_error'][-1]\n",
        "print('='*100)\n",
        "print('Результат обучения нейросети')\n",
        "print('MAE = ', np.round(mae,4))\n",
        "print('='*100)\n",
        "print()"
      ],
      "execution_count": 59,
      "outputs": [
        {
          "output_type": "stream",
          "text": [
            "Train on 4946 samples, validate on 1237 samples\n",
            "Epoch 1/60\n",
            "4946/4946 [==============================] - 4s 882us/step - loss: 258779041.1840 - mean_absolute_error: 14959.4648 - val_loss: 242286818.5222 - val_mean_absolute_error: 14810.7829\n",
            "Epoch 2/60\n",
            "4946/4946 [==============================] - 3s 580us/step - loss: 243853309.6385 - mean_absolute_error: 14453.3265 - val_loss: 208574141.9305 - val_mean_absolute_error: 13638.3969\n",
            "Epoch 3/60\n",
            "4946/4946 [==============================] - 3s 578us/step - loss: 174596066.6138 - mean_absolute_error: 11738.4558 - val_loss: 103023675.6411 - val_mean_absolute_error: 8862.0107\n",
            "Epoch 4/60\n",
            "4946/4946 [==============================] - 3s 574us/step - loss: 75204641.2584 - mean_absolute_error: 6370.8291 - val_loss: 42947573.6297 - val_mean_absolute_error: 5019.5905\n",
            "Epoch 5/60\n",
            "4946/4946 [==============================] - 3s 568us/step - loss: 51076698.7756 - mean_absolute_error: 4711.4392 - val_loss: 35583907.2999 - val_mean_absolute_error: 4496.9798\n",
            "Epoch 6/60\n",
            "4946/4946 [==============================] - 3s 567us/step - loss: 45431099.9361 - mean_absolute_error: 4303.5042 - val_loss: 32029570.5788 - val_mean_absolute_error: 4222.5804\n",
            "Epoch 7/60\n",
            "4946/4946 [==============================] - 3s 573us/step - loss: 42473452.2750 - mean_absolute_error: 4056.3016 - val_loss: 29746010.2959 - val_mean_absolute_error: 4078.5000\n",
            "Epoch 8/60\n",
            "4946/4946 [==============================] - 3s 568us/step - loss: 40262648.0542 - mean_absolute_error: 3890.5690 - val_loss: 28196306.4624 - val_mean_absolute_error: 3979.3653\n",
            "Epoch 9/60\n",
            "4946/4946 [==============================] - 3s 565us/step - loss: 38844511.6247 - mean_absolute_error: 3770.3838 - val_loss: 26963849.3856 - val_mean_absolute_error: 3873.1302\n",
            "Epoch 10/60\n",
            "4946/4946 [==============================] - 3s 565us/step - loss: 37638095.9677 - mean_absolute_error: 3681.2329 - val_loss: 25981728.3266 - val_mean_absolute_error: 3767.4076\n",
            "Epoch 11/60\n",
            "4946/4946 [==============================] - 3s 568us/step - loss: 36458814.5584 - mean_absolute_error: 3572.1836 - val_loss: 25134494.7971 - val_mean_absolute_error: 3691.7366\n",
            "Epoch 12/60\n",
            "4946/4946 [==============================] - 3s 565us/step - loss: 35783665.1808 - mean_absolute_error: 3519.0297 - val_loss: 24385230.4333 - val_mean_absolute_error: 3648.8264\n",
            "Epoch 13/60\n",
            "4946/4946 [==============================] - 3s 571us/step - loss: 34830524.4844 - mean_absolute_error: 3445.1973 - val_loss: 23736770.1487 - val_mean_absolute_error: 3580.8965\n",
            "Epoch 14/60\n",
            "4946/4946 [==============================] - 3s 593us/step - loss: 34338108.9915 - mean_absolute_error: 3389.4599 - val_loss: 23151446.5635 - val_mean_absolute_error: 3533.5267\n",
            "Epoch 15/60\n",
            "4946/4946 [==============================] - 3s 576us/step - loss: 33371712.4893 - mean_absolute_error: 3325.7739 - val_loss: 22595788.1924 - val_mean_absolute_error: 3484.8683\n",
            "Epoch 16/60\n",
            "4946/4946 [==============================] - 3s 568us/step - loss: 32866357.0477 - mean_absolute_error: 3259.5796 - val_loss: 22083051.9272 - val_mean_absolute_error: 3445.4700\n",
            "Epoch 17/60\n",
            "4946/4946 [==============================] - 3s 568us/step - loss: 32122613.3126 - mean_absolute_error: 3211.1771 - val_loss: 21578031.1043 - val_mean_absolute_error: 3391.5337\n",
            "Epoch 18/60\n",
            "4946/4946 [==============================] - 3s 572us/step - loss: 31516625.1840 - mean_absolute_error: 3165.9167 - val_loss: 21078014.1859 - val_mean_absolute_error: 3350.0820\n",
            "Epoch 19/60\n",
            "4946/4946 [==============================] - 3s 573us/step - loss: 30697301.2414 - mean_absolute_error: 3071.6221 - val_loss: 20640510.1374 - val_mean_absolute_error: 3330.8213\n",
            "Epoch 20/60\n",
            "4946/4946 [==============================] - 3s 573us/step - loss: 30328393.4319 - mean_absolute_error: 3029.2047 - val_loss: 20105847.6774 - val_mean_absolute_error: 3260.5651\n",
            "Epoch 21/60\n",
            "4946/4946 [==============================] - 3s 569us/step - loss: 29632074.6247 - mean_absolute_error: 2981.8951 - val_loss: 19610512.5311 - val_mean_absolute_error: 3219.0216\n",
            "Epoch 22/60\n",
            "4946/4946 [==============================] - 3s 575us/step - loss: 29007969.6401 - mean_absolute_error: 2903.1706 - val_loss: 19115604.3403 - val_mean_absolute_error: 3169.6157\n",
            "Epoch 23/60\n",
            "4946/4946 [==============================] - 3s 565us/step - loss: 28339380.5920 - mean_absolute_error: 2848.7939 - val_loss: 18588650.2401 - val_mean_absolute_error: 3097.7915\n",
            "Epoch 24/60\n",
            "4946/4946 [==============================] - 3s 568us/step - loss: 27494740.0061 - mean_absolute_error: 2743.2169 - val_loss: 18175118.3314 - val_mean_absolute_error: 3091.3165\n",
            "Epoch 25/60\n",
            "4946/4946 [==============================] - 3s 576us/step - loss: 26564296.8718 - mean_absolute_error: 2698.7570 - val_loss: 17544174.1924 - val_mean_absolute_error: 2995.4857\n",
            "Epoch 26/60\n",
            "4946/4946 [==============================] - 3s 573us/step - loss: 26021991.9160 - mean_absolute_error: 2606.8158 - val_loss: 17140040.3953 - val_mean_absolute_error: 2973.3276\n",
            "Epoch 27/60\n",
            "4946/4946 [==============================] - 3s 569us/step - loss: 25137023.4945 - mean_absolute_error: 2535.4469 - val_loss: 16551406.5044 - val_mean_absolute_error: 2883.6020\n",
            "Epoch 28/60\n",
            "4946/4946 [==============================] - 3s 573us/step - loss: 24429853.6563 - mean_absolute_error: 2460.2499 - val_loss: 16126571.2328 - val_mean_absolute_error: 2839.8784\n",
            "Epoch 29/60\n",
            "4946/4946 [==============================] - 3s 574us/step - loss: 23908737.1403 - mean_absolute_error: 2390.5685 - val_loss: 15729137.9782 - val_mean_absolute_error: 2790.9817\n",
            "Epoch 30/60\n",
            "4946/4946 [==============================] - 3s 574us/step - loss: 23316032.0332 - mean_absolute_error: 2340.8115 - val_loss: 15421272.9523 - val_mean_absolute_error: 2755.5419\n",
            "Epoch 31/60\n",
            "4946/4946 [==============================] - 3s 570us/step - loss: 22556576.6280 - mean_absolute_error: 2259.8884 - val_loss: 15131007.6079 - val_mean_absolute_error: 2710.0540\n",
            "Epoch 32/60\n",
            "4946/4946 [==============================] - 3s 566us/step - loss: 22202284.9937 - mean_absolute_error: 2232.5887 - val_loss: 14903709.0986 - val_mean_absolute_error: 2684.3947\n",
            "Epoch 33/60\n",
            "4946/4946 [==============================] - 3s 575us/step - loss: 21487730.5289 - mean_absolute_error: 2146.8924 - val_loss: 14721574.7102 - val_mean_absolute_error: 2665.5958\n",
            "Epoch 34/60\n",
            "4946/4946 [==============================] - 3s 564us/step - loss: 21119980.6955 - mean_absolute_error: 2106.1479 - val_loss: 14584844.6734 - val_mean_absolute_error: 2652.8641\n",
            "Epoch 35/60\n",
            "4946/4946 [==============================] - 3s 564us/step - loss: 20524404.4880 - mean_absolute_error: 2046.5404 - val_loss: 14472848.5040 - val_mean_absolute_error: 2639.1275\n",
            "Epoch 36/60\n",
            "4946/4946 [==============================] - 3s 564us/step - loss: 20257594.5321 - mean_absolute_error: 2006.7156 - val_loss: 14438259.8521 - val_mean_absolute_error: 2640.6624\n",
            "Epoch 37/60\n",
            "4946/4946 [==============================] - 3s 560us/step - loss: 19924808.3724 - mean_absolute_error: 1979.2092 - val_loss: 14271625.6370 - val_mean_absolute_error: 2611.8975\n",
            "Epoch 38/60\n",
            "4946/4946 [==============================] - 3s 561us/step - loss: 19322156.5162 - mean_absolute_error: 1921.6405 - val_loss: 14244672.4030 - val_mean_absolute_error: 2605.4820\n",
            "Epoch 39/60\n",
            "4946/4946 [==============================] - 3s 560us/step - loss: 19035330.1068 - mean_absolute_error: 1884.7431 - val_loss: 14204989.6463 - val_mean_absolute_error: 2601.5673\n",
            "Epoch 40/60\n",
            "4946/4946 [==============================] - 3s 562us/step - loss: 18539235.0603 - mean_absolute_error: 1848.9348 - val_loss: 14261637.1370 - val_mean_absolute_error: 2604.4587\n",
            "Epoch 41/60\n",
            "4946/4946 [==============================] - 3s 557us/step - loss: 18342335.7849 - mean_absolute_error: 1839.7306 - val_loss: 14323595.8719 - val_mean_absolute_error: 2610.6991\n",
            "Epoch 42/60\n",
            "4946/4946 [==============================] - 3s 561us/step - loss: 18406739.7709 - mean_absolute_error: 1801.3386 - val_loss: 14190763.3553 - val_mean_absolute_error: 2582.5749\n",
            "Epoch 43/60\n",
            "4946/4946 [==============================] - 3s 555us/step - loss: 17743812.4023 - mean_absolute_error: 1733.3961 - val_loss: 14338328.2939 - val_mean_absolute_error: 2620.2170\n",
            "Epoch 44/60\n",
            "4946/4946 [==============================] - 3s 557us/step - loss: 17365388.1487 - mean_absolute_error: 1733.6747 - val_loss: 14267731.3145 - val_mean_absolute_error: 2581.2072\n",
            "Epoch 45/60\n",
            "4946/4946 [==============================] - 3s 555us/step - loss: 17003949.8639 - mean_absolute_error: 1696.0578 - val_loss: 14308988.4559 - val_mean_absolute_error: 2591.3030\n",
            "Epoch 46/60\n",
            "4946/4946 [==============================] - 3s 555us/step - loss: 17088374.0078 - mean_absolute_error: 1666.0543 - val_loss: 14293904.2049 - val_mean_absolute_error: 2577.4143\n",
            "Epoch 47/60\n",
            "4946/4946 [==============================] - 3s 571us/step - loss: 16785698.5786 - mean_absolute_error: 1665.4155 - val_loss: 14300386.5994 - val_mean_absolute_error: 2573.1326\n",
            "Epoch 48/60\n",
            "4946/4946 [==============================] - 3s 571us/step - loss: 16296453.8685 - mean_absolute_error: 1608.5581 - val_loss: 14384975.2470 - val_mean_absolute_error: 2584.9640\n",
            "Epoch 49/60\n",
            "4946/4946 [==============================] - 3s 570us/step - loss: 16070767.0659 - mean_absolute_error: 1594.1597 - val_loss: 14511688.8375 - val_mean_absolute_error: 2598.2533\n",
            "Epoch 50/60\n",
            "4946/4946 [==============================] - 3s 570us/step - loss: 16225595.1654 - mean_absolute_error: 1588.6424 - val_loss: 14447798.8072 - val_mean_absolute_error: 2578.9833\n",
            "Epoch 51/60\n",
            "4946/4946 [==============================] - 3s 564us/step - loss: 15715830.8362 - mean_absolute_error: 1540.1742 - val_loss: 14572340.5113 - val_mean_absolute_error: 2592.9216\n",
            "Epoch 52/60\n",
            "4946/4946 [==============================] - 3s 563us/step - loss: 15467031.4833 - mean_absolute_error: 1542.2512 - val_loss: 14657064.3711 - val_mean_absolute_error: 2596.3430\n",
            "Epoch 53/60\n",
            "4946/4946 [==============================] - 3s 571us/step - loss: 15221648.5389 - mean_absolute_error: 1517.6200 - val_loss: 14772596.5166 - val_mean_absolute_error: 2601.8993\n",
            "Epoch 54/60\n",
            "4946/4946 [==============================] - 3s 572us/step - loss: 15006401.2206 - mean_absolute_error: 1507.7644 - val_loss: 14822533.1714 - val_mean_absolute_error: 2626.7960\n",
            "Epoch 55/60\n",
            "4946/4946 [==============================] - 3s 575us/step - loss: 14864984.3401 - mean_absolute_error: 1486.8712 - val_loss: 14998410.4527 - val_mean_absolute_error: 2622.4306\n",
            "Epoch 56/60\n",
            "4946/4946 [==============================] - 3s 571us/step - loss: 14598689.8447 - mean_absolute_error: 1470.1412 - val_loss: 15063167.1851 - val_mean_absolute_error: 2629.7408\n",
            "Epoch 57/60\n",
            "4946/4946 [==============================] - 3s 582us/step - loss: 14202921.5625 - mean_absolute_error: 1434.0048 - val_loss: 15209437.0267 - val_mean_absolute_error: 2639.0585\n",
            "Epoch 58/60\n",
            "4946/4946 [==============================] - 3s 579us/step - loss: 14121419.6676 - mean_absolute_error: 1464.0287 - val_loss: 15186325.8605 - val_mean_absolute_error: 2639.4984\n",
            "Epoch 59/60\n",
            "4946/4946 [==============================] - 3s 582us/step - loss: 13739652.5277 - mean_absolute_error: 1408.0013 - val_loss: 15335242.7373 - val_mean_absolute_error: 2645.7573\n",
            "Epoch 60/60\n",
            "4946/4946 [==============================] - 3s 577us/step - loss: 13867488.5142 - mean_absolute_error: 1404.0313 - val_loss: 15417202.6665 - val_mean_absolute_error: 2654.1534\n"
          ],
          "name": "stdout"
        },
        {
          "output_type": "display_data",
          "data": {
            "image/png": "[encoded data removed]",
            "text/plain": [
              "<Figure size 432x288 with 1 Axes>"
            ]
          },
          "metadata": {
            "tags": []
          }
        },
        {
          "output_type": "stream",
          "text": [
            "====================================================================================================\n",
            "Результат обучения нейросети\n",
            "MAE =  1404.0313\n",
            "====================================================================================================\n",
            "\n"
          ],
          "name": "stdout"
        }
      ]
    },
    {
      "cell_type": "code",
      "metadata": {
        "id": "C7cwFOfoHDsQ",
        "colab_type": "code",
        "colab": {
          "base_uri": "https://localhost:8080/",
          "height": 503
        },
        "outputId": "75e5afa0-7bf4-4e5d-9f27-7b751fe5e76b"
      },
      "source": [
        "# Добучение сети\n",
        "epochs=3\n",
        "\n",
        "modelS.compile(optimizer=Adam(lr=1e-5), loss='mse', metrics=['mae'])\n",
        "my_callback = MyCallback()\n",
        "history = modelS.fit([xTowns[train_mask], xTexts[train_mask]], \n",
        "                    yPrices[train_mask], \n",
        "                    epochs=epochs,\n",
        "                    batch_size=64, \n",
        "                    validation_data=([xTowns[val_mask], xTexts[val_mask]], \n",
        "                    yPrices[val_mask]), \n",
        "                    verbose=1)\n",
        "\n",
        "plt.plot(history.history['mean_absolute_error'], \n",
        "         label='МАЕ на обучающем наборе')\n",
        "plt.plot(history.history['val_mean_absolute_error'], \n",
        "         label='МАЕ на проверочном наборе')\n",
        "plt.xlabel('Эпоха обучения')\n",
        "plt.ylabel('МАЕ')\n",
        "plt.legend()\n",
        "plt.show()\n",
        "\n",
        "mae = history.history['mean_absolute_error'][-1]\n",
        "print('='*100)\n",
        "print('Результат обучения нейросети')\n",
        "print('MAE = ', np.round(mae,4))\n",
        "print('='*100)\n",
        "print()"
      ],
      "execution_count": 60,
      "outputs": [
        {
          "output_type": "stream",
          "text": [
            "Train on 4946 samples, validate on 1237 samples\n",
            "Epoch 1/3\n",
            "4946/4946 [==============================] - 4s 870us/step - loss: 13588220.9060 - mean_absolute_error: 1363.5139 - val_loss: 15387386.6544 - val_mean_absolute_error: 2644.0396\n",
            "Epoch 2/3\n",
            "4946/4946 [==============================] - 3s 569us/step - loss: 13471152.6950 - mean_absolute_error: 1364.1352 - val_loss: 15413927.5016 - val_mean_absolute_error: 2646.9363\n",
            "Epoch 3/3\n",
            "4946/4946 [==============================] - 3s 570us/step - loss: 13336552.3867 - mean_absolute_error: 1370.7064 - val_loss: 15432680.4834 - val_mean_absolute_error: 2648.7206\n"
          ],
          "name": "stdout"
        },
        {
          "output_type": "display_data",
          "data": {
            "image/png": "[encoded data removed]",
            "text/plain": [
              "<Figure size 432x288 with 1 Axes>"
            ]
          },
          "metadata": {
            "tags": []
          }
        },
        {
          "output_type": "stream",
          "text": [
            "====================================================================================================\n",
            "Результат обучения нейросети\n",
            "MAE =  1370.7064\n",
            "====================================================================================================\n",
            "\n"
          ],
          "name": "stdout"
        }
      ]
    },
    {
      "cell_type": "markdown",
      "metadata": {
        "id": "c2nDoJo03_nA",
        "colab_type": "text"
      },
      "source": [
        "# My Keras Callbacks"
      ]
    },
    {
      "cell_type": "code",
      "metadata": {
        "id": "0zxRN3yP32fy",
        "colab_type": "code",
        "colab": {}
      },
      "source": [
        "# New\n",
        "class MyCallback(keras.callbacks.Callback):\n",
        "    def __init__(self):\n",
        "        self.time_start = 0      # Время начала обучения\n",
        "        self.time_sum   = 0      # Общее время обучения\n",
        "        self.list_time = []      # Список времен по эпохам\n",
        "        self.list_train_mae = [] # Список МАЕ по тренировочной выбоке\n",
        "        self.list_val_mae = []   # Список МАЕ по валидационной выбоке\n",
        "        self.list_lr = []        # Список Learning Rate\n",
        "\n",
        "        # Переменные для хранения предсказаний модели для выборок\n",
        "        #self.pred_val   = 0\n",
        "\n",
        "        self.time_start = time.time()\n",
        "        self.list_time.append(self.time_start) # Время старта начала обучения\n",
        "\n",
        "    # Функция возвращает время в виде строки - часы, минуты, секунды\n",
        "    def get_str_time(self, dig_time):\n",
        "        if dig_time <= 60:\n",
        "          return str(round(dig_time,2)) + ' сек.'\n",
        "        if dig_time <= 3600:\n",
        "          minute = dig_time//60\n",
        "          secund = dig_time - minute*60\n",
        "          return str(minute) + ' мин. ' + str(round(secund,2)) + ' сек. '\n",
        "        if dig_time > 3600:\n",
        "          hour   = dig_time//3600\n",
        "          minute = (dig_time - hour*3600)//60\n",
        "          secund = dig_time - hour*3600 - minute*60\n",
        "          return str(hour) + ' час. ' + str(minute) + ' мин. ' + str(round(secund,2)) + ' сек. '\n",
        "\n",
        "    # Функция расчета статистик по времени обучения\n",
        "    def print_time(self, epoch, logs):\n",
        "        print('Текущая эпоха         = ', epoch+1)\n",
        "        print('Время обучения на текущей эпохе  = ', self.get_str_time(self.list_time[-1] - self.list_time[-2]))\n",
        "        print('Среднее время обучения на эпоху   = ', self.get_str_time((self.list_time[-1] - self.list_time[0])/ len(self.list_time)))\n",
        "        print('Время обучения с начала обучения  = ', self.get_str_time(self.list_time[-1] - self.list_time[0]))\n",
        "        print()\n",
        "        print('Осталось эпох                  = ', epochs - epoch - 1)\n",
        "        time_cont = (self.list_time[-1] - self.list_time[0]) / len(self.list_time) * (epochs - epoch)\n",
        "        print('Осталось времени до конца обучения = ', self.get_str_time(time_cont))\n",
        "        print('-'*80)\n",
        "        print()\n",
        "\n",
        "    # Функция для вычисления усредненной ошибки и записи ее в список\n",
        "    def print_mae(self, epoch, logs):        \n",
        "        # Тренировочная выборка        \n",
        "        print(\"Эпоха\", epoch+1, \"модуль ошибки на тренировочных данных\", round(self.list_train_mae[-1], 3))  #Выводим усреднённую ошибку \n",
        "        # Валидационная выборка\n",
        "        print(\"Эпоха\", epoch+1, \"модуль ошибки на валидационных данных\", round(self.list_val_mae[-1], 3))  #Выводим усреднённую ошибку \n",
        "\n",
        "    # Функция отрисовки графика усредненной ошибки по эпохам\n",
        "    def plot_mae(self):\n",
        "        plt.plot(self.list_train_mae, \n",
        "                label='Средняя абсолютная ошибка на обучающем наборе')\n",
        "        plt.plot(self.list_val_mae, \n",
        "                label='Средняя абсолютная ошибка на проверочном наборе')\n",
        "        plt.xlabel('Эпоха обучения')\n",
        "        plt.ylabel('Средняя абсолютная ошибка')\n",
        "        plt.legend()\n",
        "        plt.show()\n",
        "\n",
        "    # Функция отрисовки графика предсказаний на валидационных данны может показать перекос, если есть\n",
        "    def plot_scr_val(self):\n",
        "        self.pred_val = self.model.predict([self.validation_data[0],self.validation_data[1]]).flatten()\n",
        "        plt.scatter(self.validation_data[2].flatten(), self.pred_val) \n",
        "        plt.xlabel('Правильные значение')\n",
        "        plt.ylabel('Предсказания')\n",
        "        plt.axis('equal')\n",
        "        plt.xlim(plt.xlim())\n",
        "        plt.ylim(plt.ylim())\n",
        "        plt.plot([-100, 100], [-100, 100])\n",
        "        plt.show()\n",
        "\n",
        "    # Функция отрисовки гистограммы модуля ошибки на валидационных данных\n",
        "    def plot_hist_val(self):\n",
        "        error = (self.pred_val - self.validation_data[3].flatten())\n",
        "        #Построение гистограммы\n",
        "        plt.hist(abs(error), bins = 100)\n",
        "        plt.xlabel(\"Значение ошибки, тыс.руб.\")\n",
        "        plt.ylabel(\"Количество\")\n",
        "        plt.show()\n",
        "\n",
        "    # Функция записи в файл лучшего результата по МАЕ\n",
        "    def save_best_mae(self):\n",
        "        if (len(self.list_val_mae[:-1]) > 1) and (self.list_val_mae[-1] < np.array(self.list_val_mae[:-1]).min()):\n",
        "          self.model.save('/content/drive/My Drive/UAI/Neuron Networks/Занятие №6 Регрессия/best_mae.h5')  # creates a HDF5 file 'my_model.h5'\n",
        "          print('Сохранена модель с МАЕ =', self.list_val_mae[-1])\n",
        "\n",
        "    # Функция для изменения шага обучения по МАЕ\n",
        "    def change_lerning_rate(self, epoch):\n",
        "        print('Текущий Learning Rate = ', K.get_value(self.model.optimizer.lr))\n",
        "        \n",
        "        # Плато и пилу будем искать на участке протяженностью num эпох\n",
        "        num = 5     #  Количество эпох для анализа\n",
        "        saw   = 0.05   #  Пила - МАЕ скачет больше чем на 5%\n",
        "        plato = 0.001 #  Плато - МАЕ не меняется больше чем на 0.1% на протяжении num эпох\n",
        "      \n",
        "        if (len(self.list_train_mae) >= num) and(epoch % 5 == 0):\n",
        "          # Анализ на есть ли плато\n",
        "          razn = abs(self.list_train_mae[-1] - self.list_train_mae[-num])\n",
        "          razn_per = razn/self.list_train_mae[-1]\n",
        "          if razn_per < plato:       \n",
        "            print('Нашли плато')\n",
        "            # Увеличиваем Learning Rate в 2 раза\n",
        "            lr_new = K.get_value(self.model.optimizer.lr) * 2\n",
        "            # Проверяем верхнюю границу Learning Rate, что бы она не подымалась выше 1e-3 \n",
        "            if lr_new > 1e-3:\n",
        "              lr_new = 1e-3\n",
        "              print('Достигнута верхняя граница lr, сохранен текущий lr = ', lr_new)\n",
        "              return\n",
        "            else:\n",
        "              print('Увеличил lr в 2 раза, новый lr = ', lr_new)\n",
        "              K.set_value(self.model.optimizer.lr, lr_new)\n",
        "              return\n",
        "\n",
        "          # Анализ есть ли пила - соседние показания скачут больше чем на saw процентов\n",
        "          list_MAE = self.list_train_mae[-num:]\n",
        "          for i in range(num-1):\n",
        "            razn = abs(list_MAE[i] - list_MAE[i+1])\n",
        "            razn_per = razn/list_MAE[i] \n",
        "            if razn_per > saw :\n",
        "              print('Нашли пилу')\n",
        "              # Уменьшаем Learning Rate в 2 раза\n",
        "              lr_new = K.get_value(self.model.optimizer.lr) / 2\n",
        "              # Проверяем нижнюю границу Learning Rate, что бы она не опускалась ниже 1e-7 \n",
        "              if lr_new < 1e-7:\n",
        "                lr_new = 1e-7\n",
        "                print('Достигнута нижняя граница lr, сохранен текущий lr = ', lr_new)\n",
        "                return\n",
        "              else:\n",
        "                print('Уменьшил lr в 2 раза, новый lr = ', lr_new)\n",
        "                K.set_value(self.model.optimizer.lr, lr_new)\n",
        "                return\n",
        "    \n",
        "    def on_train_begin(self, logs={}):\n",
        "        self.losses = []\n",
        "    \n",
        "    def on_batch_end(self, batch, logs={}):\n",
        "        self.losses.append(logs.get('loss'))\n",
        "\n",
        "    def on_epoch_begin(self, epoch, logs={}):\n",
        "        # Очистка экрана\n",
        "        pass\n",
        "        #print()\n",
        "        #clear_output() # Очистка экрана\n",
        "\n",
        "    def on_epoch_end(self, epoch, logs={}): \n",
        "        clear_output() # Очистка экрана\n",
        "        # Записываем в списки значение МАЕ для тренировочной и валидационной выборок \n",
        "        self.list_train_mae.append(logs.get('mean_absolute_error')) # Список МАЕ по тренировочной выбоке\n",
        "        self.list_val_mae.append(logs.get('val_mean_absolute_error'))   # Список МАЕ по валидационной выбоке  \n",
        "        # Добавляем текущее время в список и печатаем статистику по времени\n",
        "        self.list_time.append(time.time())\n",
        "        self.print_time(epoch, logs)        \n",
        "        # Печать тукущих МАЕ\n",
        "        self.print_mae(epoch, logs)\n",
        "        # Отрисовка МАЕ\n",
        "        self.plot_mae()\n",
        "        # Отрисовка скраттера\n",
        "        self.plot_scr_val()\n",
        "        # Отрисвка гистограммы ошибок\n",
        "        self.plot_hist_val()\n",
        "        # Запись наилучшего результата по МАЕ на валидации\n",
        "        self.save_best_mae()\n",
        "        # Изменение learning rate\n",
        "        self.change_lerning_rate(epoch)\n",
        "    \n",
        "    def on_train_end(self, logs={}):\n",
        "        print('Тренировка закончена')"
      ],
      "execution_count": 0,
      "outputs": []
    },
    {
      "cell_type": "code",
      "metadata": {
        "id": "OZjrE0j7w9vH",
        "colab_type": "code",
        "outputId": "7d4833ed-0e00-47b1-f2a5-0f55a9a4cf51",
        "colab": {
          "base_uri": "https://localhost:8080/",
          "height": 1000
        }
      },
      "source": [
        "epochs=100\n",
        "\n",
        "modelS.compile(optimizer=Adam(lr=1e-4), loss='mse', metrics=['mae'])\n",
        "my_callback = MyCallback()\n",
        "history = modelS.fit([xTowns[train_mask], xTexts[train_mask]], \n",
        "                    yPrices[train_mask], \n",
        "                    epochs=epochs,\n",
        "                    batch_size=64, \n",
        "                    validation_data=([xTowns[val_mask], xTexts[val_mask]], \n",
        "                    yPrices[val_mask]), \n",
        "                    verbose=0,\n",
        "                    callbacks=[my_callback])"
      ],
      "execution_count": 67,
      "outputs": [
        {
          "output_type": "stream",
          "text": [
            "Текущая эпоха         =  100\n",
            "Время обучения на текущей эпохе  =  5.58 сек.\n",
            "Среднее время обучения на эпоху   =  5.33 сек.\n",
            "Время обучения с начала обучения  =  8.0 мин. 58.73 сек. \n",
            "\n",
            "Осталось эпох                  =  0\n",
            "Осталось времени до конца обучения =  5.33 сек.\n",
            "--------------------------------------------------------------------------------\n",
            "\n",
            "Эпоха 100 модуль ошибки на тренировочных данных 1496.262\n",
            "Эпоха 100 модуль ошибки на валидационных данных 2603.501\n"
          ],
          "name": "stdout"
        },
        {
          "output_type": "display_data",
          "data": {
            "image/png": "[encoded data removed]",
            "text/plain": [
              "<Figure size 432x288 with 1 Axes>"
            ]
          },
          "metadata": {
            "tags": []
          }
        },
        {
          "output_type": "display_data",
          "data": {
            "image/png": "[encoded data removed]",
            "text/plain": [
              "<Figure size 432x288 with 1 Axes>"
            ]
          },
          "metadata": {
            "tags": []
          }
        },
        {
          "output_type": "display_data",
          "data": {
            "image/png": "[encoded data removed]",
            "text/plain": [
              "<Figure size 432x288 with 1 Axes>"
            ]
          },
          "metadata": {
            "tags": []
          }
        },
        {
          "output_type": "stream",
          "text": [
            "Текущий Learning Rate =  5e-05\n",
            "Тренировка закончена\n"
          ],
          "name": "stdout"
        }
      ]
    },
    {
      "cell_type": "markdown",
      "metadata": {
        "id": "f_6yRybeL3vw",
        "colab_type": "text"
      },
      "source": [
        "## Выводы:\n",
        "### Для данной рабты были спарсены 6500 обьявлений о продаже IPhone 7 с сайта avito.ru\n",
        "Из данных обьявлений были выделены города продаж, текст с описанием продаваемого телефона и его цена. Города продаж были уникально закодированы в OHE, текст обьявления переведен в формат bag of words. \n",
        "После этого, на этих данных обучили нейросеть - уметь предсказывать цену телефона IPhone 7 в зависимости от города где телефон продают и текста с описанием продаваемого телефона. Сеть обучилась на этих данных предсказывать стоимость телефона со средней точностью до 2600 руб. на валидационных данных и до 1400 руб. на тренировочных.\n",
        "\n",
        "Т.к. Средняя цена IPhone 7 по обучающим данным равна 15000 руб, то при нашей средней ошибке на валидационных данных в 2600 руб., можно сказать, что исходя из города продажи и текста описания телефона мы сможем предсказать его цену с точностью 17%."
      ]
    }
  ]
}